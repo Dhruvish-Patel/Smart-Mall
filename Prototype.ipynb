{
 "cells": [
  {
   "cell_type": "code",
   "execution_count": 10,
   "metadata": {},
   "outputs": [
    {
     "name": "stdout",
     "output_type": "stream",
     "text": [
      "****WELCOME TO THE SMART MALL****\n",
      "\n",
      "\n",
      "\n",
      "Date:  05/03/2020\n",
      "Time :  23:50:49\n",
      "\n",
      "\n",
      "\n",
      "Vehicle No : UA07H6032\n",
      "Park it at location : i9\n",
      "\n",
      "\n",
      "\n",
      "HAVE A NICE DAY!!\n"
     ]
    }
   ],
   "source": [
    "import re \n",
    "from firebase import firebase\n",
    "from tesserocr import PyTessBaseAPI\n",
    "from PIL import Image\n",
    "from datetime import date\n",
    "from resizeimage import resizeimage\n",
    "from datetime import datetime\n",
    "img='image5.jpg'\n",
    "with open(img, 'r+b') as f:\n",
    "    with Image.open(f) as image:\n",
    "        cover = resizeimage.resize_cover(image, [390, 120])\n",
    "        cover.save(img, image.format)\n",
    "images = [img]\n",
    "\n",
    "with PyTessBaseAPI() as api:\n",
    "    for image in images:\n",
    "        api.SetImageFile(image)\n",
    "        print(\"****WELCOME TO THE SMART MALL****\")\n",
    "        today = date.today()\n",
    "        print(\"\\n\\n\")\n",
    "        d1 = today.strftime(\"%d/%m/%Y\")\n",
    "        now = datetime.now()\n",
    "        current_time = now.strftime(\"%H:%M:%S\")\n",
    "        \n",
    "        print(\"Date: \", d1)\n",
    "        print(\"Time : \", current_time)\n",
    "        \n",
    "        print(\"\\n\\n\")\n",
    "        y=api.GetUTF8Text()\n",
    "        y=y.strip()\n",
    "        y = y.replace('\\r', '').replace('\\n', '')\n",
    "        y = re.sub('[\\W_]+', '', y) \n",
    "        print(\"Vehicle No : \"+y)\n",
    "        #print(api.AllWordConfidences())\n",
    "# api is automatically finalized when used in a with-statement (context manager).\n",
    "# otherwise api.End() should be explicitly called when it's no longer needed.\n",
    "lines=\"\"\n",
    "with open('parkingspots.txt','r')as spots:\n",
    "    for line in spots:\n",
    "        spots.readline()\n",
    "with open('parkingspots.txt','r')as spots:\n",
    "    lines=spots.readlines()\n",
    "x=lines[-1]\n",
    "with open('parked.txt','a')as spots:\n",
    "    spots.write(lines[-1]+\" \"+y+\"\\n\")\n",
    "lines=lines[:-1] \n",
    "#print(lines)\n",
    "l1=\"\"\n",
    "l1=l1.join(lines)\n",
    "#print(l1)\n",
    "with open('parkingspots.txt','w')as spot:\n",
    "    spot.write(l1)\n",
    "print(\"Park it at location : \"+x)\n",
    "print(\"\\n\\nHAVE A NICE DAY!!\")\n",
    "        \n",
    "firebase = firebase.FirebaseApplication('https://de-prototype.firebaseio.com/',None)\n",
    "\n",
    "#data={\n",
    "#    y:x\n",
    "#}\n",
    "result = firebase.patch('https://de-prototype.firebaseio.com/test/',{y:x})"
   ]
  },
  {
   "cell_type": "code",
   "execution_count": 13,
   "metadata": {},
   "outputs": [
    {
     "name": "stdout",
     "output_type": "stream",
     "text": [
      "{'AP3ABOSS': 'f4\\n', 'DL3CAN0857': 'g7\\n', 'DL4CAF4943': 'f6\\n', 'KA03MG2784': 'f5\\n', 'UA07H6032': 'i9\\n'}\n",
      "g7\n",
      "\n"
     ]
    }
   ],
   "source": [
    "from firebase import firebase\n",
    "firebase = firebase.FirebaseApplication('https://de-prototype.firebaseio.com/',None)\n",
    "result = firebase.get('/test',None)\n",
    "print(result)\n",
    "#print(type(result))\n",
    "list1 = result.values() \n",
    "# print(list1)\n",
    "# print(type(list1))\n",
    "\n",
    "def flatten_dict(dd, separator ='_', prefix =''): \n",
    "    return { prefix + separator + k if prefix else k : v \n",
    "             for kk, vv in dd.items() \n",
    "             for k, v in flatten_dict(vv, separator, kk).items() \n",
    "             } if isinstance(dd, dict) else { prefix : dd }   \n",
    "  \n",
    "# printing final dictionary \n",
    "#print (flatten_dict(list1))\n",
    "#print(\"\\n\\n\\n\")\n",
    "#print(flatten_dict(list1).get('UVA07H6032'))\n",
    "print(result.get('DL3CAN0857'))"
   ]
  },
  {
   "cell_type": "code",
   "execution_count": null,
   "metadata": {},
   "outputs": [],
   "source": []
  }
 ],
 "metadata": {
  "kernelspec": {
   "display_name": "Python 3",
   "language": "python",
   "name": "python3"
  },
  "language_info": {
   "codemirror_mode": {
    "name": "ipython",
    "version": 3
   },
   "file_extension": ".py",
   "mimetype": "text/x-python",
   "name": "python",
   "nbconvert_exporter": "python",
   "pygments_lexer": "ipython3",
   "version": "3.7.6"
  }
 },
 "nbformat": 4,
 "nbformat_minor": 4
}
